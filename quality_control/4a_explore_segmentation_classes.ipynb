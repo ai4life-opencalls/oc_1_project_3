{
 "cells": [
  {
   "cell_type": "markdown",
   "metadata": {},
   "source": [
    "# Explore segmentation results (all classes)\n",
    "\n",
    "The goal of this notebook is to show side-by-side the normalized images and the result \n",
    "of the segmentation in order to verify that nothing went wrong at this stage of the \n",
    "pipeline.\n",
    "\n",
    "In Jupyter notebooks, you can run the cells by pressing `Shift+Enter`. All cells need\n",
    "to run in the correct order. You can also press `Run All` in the `Cell` menu.\n",
    "\n",
    "Places where you need to fill in code are indicated with the following comments: \n",
    "``` python\n",
    "#####################################\n",
    "####### Parameters to change ########\n",
    "#####################################\n",
    "data = ...\n",
    "```"
   ]
  },
  {
   "cell_type": "code",
   "execution_count": null,
   "metadata": {},
   "outputs": [],
   "source": [
    "# Import libraries we need\n",
    "from pathlib import Path\n",
    "import numpy as np\n",
    "from matplotlib import pyplot as plt\n",
    "import tifffile"
   ]
  },
  {
   "cell_type": "code",
   "execution_count": null,
   "metadata": {},
   "outputs": [],
   "source": [
    "#####################################\n",
    "####### Parameters to change ########\n",
    "#####################################\n",
    "# Paths\n",
    "root = Path(\"test_pipeline\") # here replace with the root of the analysis folder\n",
    "raw_folder = root / \"raw-normalized\" # replace with your image folder name\n",
    "seg_folder = root / \"result\" # replace with the segmentation result folder\n",
    "\n",
    "# Labels (as they appear in Labkit)\n",
    "labels = [\"background\", \"tissue\", \"collagen\", \"cell\"]\n",
    "\n",
    "# Save plots\n",
    "save_plots = True # True if you want to save the plots, False if you don't\n",
    "save_path = root / \"plots\" # replace with the folder where you want to save the plots"
   ]
  },
  {
   "cell_type": "markdown",
   "metadata": {},
   "source": [
    "Now, we are going to show all images side by side!"
   ]
  },
  {
   "cell_type": "code",
   "execution_count": null,
   "metadata": {},
   "outputs": [],
   "source": [
    "# list tiffs in raw folder\n",
    "raw_files = sorted(raw_folder.glob(\"*.tif\"))\n",
    "\n",
    "# number of labels\n",
    "n_labels = len(labels)\n",
    "\n",
    "# loop over the files\n",
    "for f in raw_files:\n",
    "    raw = tifffile.imread(f)\n",
    "\n",
    "    sum_name = f.stem + \"_segmentation.tif\"\n",
    "    seg_path = seg_folder / sum_name\n",
    "    seg = tifffile.imread(seg_path)\n",
    "\n",
    "    label_max = np.max(seg)\n",
    "    if label_max != n_labels - 1:\n",
    "        print(f\"{sum_name} has max value {label_max}, expected {n_labels-1}\")\n",
    "\n",
    "    # plot raw image and mask overlays\n",
    "    plt.figure(figsize=(20, 10))\n",
    "\n",
    "    for i in range(n_labels):\n",
    "        plt.subplot(1, n_labels, i + 1)\n",
    "        plt.imshow(raw)\n",
    "        plt.imshow(seg == i, alpha=0.2)\n",
    "        plt.title(f.stem + \" (\" + labels[i] + \")\")\n",
    "    \n",
    "    if save_plots:\n",
    "        if not save_path.exists():\n",
    "            save_path.mkdir()\n",
    "\n",
    "        plt.savefig(save_path / f\"{f.stem}_qc_classes.png\")\n",
    "  \n"
   ]
  },
  {
   "cell_type": "code",
   "execution_count": null,
   "metadata": {},
   "outputs": [],
   "source": []
  }
 ],
 "metadata": {
  "kernelspec": {
   "display_name": "general",
   "language": "python",
   "name": "python3"
  },
  "language_info": {
   "codemirror_mode": {
    "name": "ipython",
    "version": 3
   },
   "file_extension": ".py",
   "mimetype": "text/x-python",
   "name": "python",
   "nbconvert_exporter": "python",
   "pygments_lexer": "ipython3",
   "version": "3.10.13"
  }
 },
 "nbformat": 4,
 "nbformat_minor": 2
}
