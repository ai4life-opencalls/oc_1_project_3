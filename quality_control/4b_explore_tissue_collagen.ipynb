{
 "cells": [
  {
   "cell_type": "markdown",
   "metadata": {},
   "source": [
    "# Explore segmentation results (tissue vs collagen)\n",
    "\n",
    "The goal of this notebook is to show side-by-side the normalized images and the result \n",
    "of the segmentation in order to verify that nothing went wrong at this stage of the \n",
    "pipeline.\n",
    "\n",
    "In Jupyter notebooks, you can run the cells by pressing `Shift+Enter`. All cells need\n",
    "to run in the correct order. You can also press `Run All` in the `Cell` menu.\n",
    "\n",
    "Places where you need to fill in code are indicated with the following comments: \n",
    "``` python\n",
    "#####################################\n",
    "####### Parameters to change ########\n",
    "#####################################\n",
    "data = ...\n",
    "```"
   ]
  },
  {
   "cell_type": "code",
   "execution_count": null,
   "metadata": {},
   "outputs": [],
   "source": [
    "# Import libraries we need\n",
    "from pathlib import Path\n",
    "import numpy as np\n",
    "from matplotlib import pyplot as plt\n",
    "import tifffile"
   ]
  },
  {
   "cell_type": "code",
   "execution_count": null,
   "metadata": {},
   "outputs": [],
   "source": [
    "#####################################\n",
    "####### Parameters to change ########\n",
    "#####################################\n",
    "# Paths\n",
    "root = Path(\"test_pipeline\") # here replace with the root of the analysis folder\n",
    "raw_folder = root / \"raw-normalized\" # replace with your image folder name\n",
    "seg_folder = root / \"result\" # replace with the segmentation result folder\n",
    "\n",
    "# Labels as they were used in the script\n",
    "tissue = \"tissue\"\n",
    "collagen = \"collagen\"\n",
    "\n",
    "# Other parameters\n",
    "masked = True # True if you want to see the masked results\n",
    "save_plots = True # True if you want to save the plots, False if you don't\n",
    "save_path = root / \"plots\" # replace with the folder where you want to save the plots\n",
    "\n",
    "assert root.exists(), \"Root folder does not exist\"\n",
    "assert raw_folder.exists(), \"Raw folder does not exist\"\n",
    "assert seg_folder.exists(), \"Segmentation folder does not exist\"\n"
   ]
  },
  {
   "cell_type": "code",
   "execution_count": 4,
   "metadata": {},
   "outputs": [
    {
     "ename": "SyntaxError",
     "evalue": "unterminated string literal (detected at line 14) (1895814202.py, line 14)",
     "output_type": "error",
     "traceback": [
      "\u001b[0;36m  Cell \u001b[0;32mIn[4], line 14\u001b[0;36m\u001b[0m\n\u001b[0;31m    coll_name = f.stem + \"_segmentation_\" + collagen + \".tif\u001b[0m\n\u001b[0m                                                       ^\u001b[0m\n\u001b[0;31mSyntaxError\u001b[0m\u001b[0;31m:\u001b[0m unterminated string literal (detected at line 14)\n"
     ]
    }
   ],
   "source": [
    "# list tiffs in raw folder\n",
    "raw_files = sorted(raw_folder.glob(\"*.tif\"))\n",
    "\n",
    "# loop over the files\n",
    "for f in raw_files:\n",
    "    # get sum and collagen paths\n",
    "    if masked:\n",
    "        sum_name = f.stem + \"_segmentation_sum_\" + tissue + \"_\" + collagen + \"_masked.tif\"\n",
    "        coll_name = f.stem + \"_segmentation_\" + collagen + \"_masked.tif\"\n",
    "\n",
    "        if not Path(seg_folder, sum_name).exists():\n",
    "            print(f\"Warning: there is no masked sum for {f.stem}.\")\n",
    "            sum_name = f.stem + \"_segmentation_sum_\" + tissue + \"_\" + collagen + \".tif\"\n",
    "            coll_name = f.stem + \"_segmentation_\" + collagen + \".tif\"\n",
    "\n",
    "    else:\n",
    "        sum_name = f.stem + \"_segmentation_sum_\" + tissue + \"_\" + collagen + \".tif\"\n",
    "        coll_name = f.stem + \"_segmentation_\" + collagen + \".tif\"\n",
    "        \n",
    "    sum_path = seg_folder / sum_name\n",
    "    coll_path = seg_folder / coll_name\n",
    "\n",
    "    # load images\n",
    "    raw = tifffile.imread(f)\n",
    "    sum_tc = tifffile.imread(sum_path)\n",
    "    coll = tifffile.imread(coll_path)\n",
    "\n",
    "    # quality control\n",
    "    # all pixels that are equal to 255 in the collagen, should be equal to 255 in the sum\n",
    "    if not (sum_tc[coll == 255] == 255).sum() == (coll[coll == 255] == 255).sum():\n",
    "        print(f\"Warning: there might be a problem with {f.stem}.\")\n",
    "\n",
    "    # plot raw image and overlays\n",
    "    plt.figure(figsize=(20, 10))\n",
    "\n",
    "    # raw\n",
    "    plt.subplot(1, 3, 1)\n",
    "    plt.imshow(raw)\n",
    "    plt.title(f.stem)\n",
    "\n",
    "    # tissue and collagen sum\n",
    "    plt.subplot(1, 3, 2)\n",
    "    plt.imshow(raw)\n",
    "    plt.imshow(sum_tc)\n",
    "    plt.title(tissue + \" \" + collagen + \" sum\")\n",
    "\n",
    "    # collagen\n",
    "    plt.subplot(1, 3, 3)\n",
    "    plt.imshow(raw)\n",
    "    plt.imshow(coll)\n",
    "    plt.title(collagen)\n",
    "\n",
    "    # save\n",
    "    if save_plots:\n",
    "        if not save_path.exists():\n",
    "            save_path.mkdir()\n",
    "            \n",
    "        if masked:\n",
    "            plt.savefig(save_path / f\"{f.stem}_qc_tissue_collagen_masked.png\")\n",
    "        else:\n",
    "            plt.savefig(save_path / f\"{f.stem}_qc_tissue_collagen.png\")"
   ]
  },
  {
   "cell_type": "code",
   "execution_count": null,
   "metadata": {},
   "outputs": [],
   "source": []
  }
 ],
 "metadata": {
  "kernelspec": {
   "display_name": "general",
   "language": "python",
   "name": "python3"
  },
  "language_info": {
   "codemirror_mode": {
    "name": "ipython",
    "version": 3
   },
   "file_extension": ".py",
   "mimetype": "text/x-python",
   "name": "python",
   "nbconvert_exporter": "python",
   "pygments_lexer": "ipython3",
   "version": "3.10.13"
  }
 },
 "nbformat": 4,
 "nbformat_minor": 2
}
