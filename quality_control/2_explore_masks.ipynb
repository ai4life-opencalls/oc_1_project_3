{
 "cells": [
  {
   "cell_type": "markdown",
   "metadata": {},
   "source": [
    "# Explore masking\n",
    "\n",
    "The goal of this notebook is to show side-by-side the images and their masks in order\n",
    "to verify that nothing went wrong at this stage of the pipeline.\n",
    "\n",
    "In Jupyter notebooks, you can run the cells by pressing `Shift+Enter`. All cells need\n",
    "to run in the correct order. You can also press `Run All` in the `Cell` menu.\n",
    "\n",
    "Places where you need to fill in code are indicated with the following comments: \n",
    "``` python\n",
    "#####################################\n",
    "####### Parameters to change ########\n",
    "#####################################\n",
    "data = ...\n",
    "```"
   ]
  },
  {
   "cell_type": "code",
   "execution_count": null,
   "metadata": {},
   "outputs": [],
   "source": [
    "# Import libraries we need\n",
    "from pathlib import Path\n",
    "import numpy as np\n",
    "from matplotlib import pyplot as plt\n",
    "import tifffile"
   ]
  },
  {
   "cell_type": "code",
   "execution_count": null,
   "metadata": {},
   "outputs": [],
   "source": [
    "#####################################\n",
    "####### Parameters to change ########\n",
    "#####################################\n",
    "# Paths\n",
    "root = Path(\"test_pipeline\") # here replace with the root of the analysis folder\n",
    "img_folder = root / \"raw-normalized\" # replace with the image folder\n",
    "mask_folder = root / \"masks\" # replace with the mask folder\n",
    "save_plots = True # set to True if you want to save the plots\n",
    "save_path = root / \"plots\" # replace with the folder where you want to save the plots"
   ]
  },
  {
   "cell_type": "markdown",
   "metadata": {},
   "source": [
    "Now, we are going to show all images side by side!\n"
   ]
  },
  {
   "cell_type": "code",
   "execution_count": null,
   "metadata": {},
   "outputs": [],
   "source": [
    "# list tiffs in raw folder\n",
    "raw_files = sorted(img_folder.glob(\"*.tif\"))\n",
    "N = len(raw_files)\n",
    "\n",
    "# loop over the files\n",
    "for f in raw_files:\n",
    "    raw = tifffile.imread(f)\n",
    "\n",
    "    path_mask = mask_folder / f.name\n",
    "    mask = tifffile.imread(path_mask)\n",
    "\n",
    "    # plot raw and normalized images\n",
    "    plt.figure(figsize=(20, 10))\n",
    "    \n",
    "    plt.imshow(raw)\n",
    "    plt.imshow(mask, alpha=0.2)\n",
    "    plt.title(f.stem)\n",
    "\n",
    "    if save_plots:\n",
    "        if not save_path.exists():\n",
    "            save_path.mkdir()\n",
    "\n",
    "        plt.savefig(save_path / f\"{f.stem}_qc_masks.png\")"
   ]
  },
  {
   "cell_type": "code",
   "execution_count": null,
   "metadata": {},
   "outputs": [],
   "source": []
  }
 ],
 "metadata": {
  "kernelspec": {
   "display_name": "general",
   "language": "python",
   "name": "python3"
  },
  "language_info": {
   "codemirror_mode": {
    "name": "ipython",
    "version": 3
   },
   "file_extension": ".py",
   "mimetype": "text/x-python",
   "name": "python",
   "nbconvert_exporter": "python",
   "pygments_lexer": "ipython3",
   "version": "3.10.13"
  }
 },
 "nbformat": 4,
 "nbformat_minor": 2
}
