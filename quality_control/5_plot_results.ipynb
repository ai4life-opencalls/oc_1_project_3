{
 "cells": [
  {
   "cell_type": "markdown",
   "metadata": {},
   "source": [
    "# Explore segmentation results (tissue vs collagen)\n",
    "\n",
    "The goal of this notebook is to show side-by-side the normalized images and the result \n",
    "of the segmentation in order to verify that nothing went wrong at this stage of the \n",
    "pipeline.\n",
    "\n",
    "In Jupyter notebooks, you can run the cells by pressing `Shift+Enter`. All cells need\n",
    "to run in the correct order. You can also press `Run All` in the `Cell` menu.\n",
    "\n",
    "Places where you need to fill in code are indicated with the following comments: \n",
    "``` python\n",
    "#####################################\n",
    "####### Parameters to change ########\n",
    "#####################################\n",
    "data = ...\n",
    "```"
   ]
  },
  {
   "cell_type": "code",
   "execution_count": null,
   "metadata": {},
   "outputs": [],
   "source": [
    "# Import libraries we need\n",
    "from pathlib import Path\n",
    "import pandas as pd\n",
    "import seaborn as sns\n",
    "import matplotlib.pyplot as plt"
   ]
  },
  {
   "cell_type": "code",
   "execution_count": null,
   "metadata": {},
   "outputs": [],
   "source": [
    "#####################################\n",
    "####### Parameters to change ########\n",
    "#####################################\n",
    "# Paths\n",
    "root = Path(\"test_pipeline\") # here replace with the root of the analysis folder\n",
    "result_folder = root / \"result\" # replace with the result folder\n",
    "masked = True # True if you want to see the masked results\n",
    "save_plots = True # True if you want to save the plots\n",
    "save_path = root / \"plots\" # replace with the path where you want to save the plots\n",
    "\n",
    "assert root.exists(), \"Root folder does not exist\"\n",
    "assert result_folder.exists(), \"Result folder does not exist\"\n"
   ]
  },
  {
   "cell_type": "code",
   "execution_count": null,
   "metadata": {},
   "outputs": [],
   "source": [
    "def read_results(file_path):\n",
    "    results = {}\n",
    "    names = []\n",
    "    perc = []\n",
    "\n",
    "    # load the tabular results\n",
    "    with open(file_path, \"r\") as f:\n",
    "        # skip first line\n",
    "        next(f)\n",
    "\n",
    "        # read the rest\n",
    "        lines = f.read().splitlines()\n",
    "\n",
    "        for l in lines:\n",
    "            split_line = l.split(\"\\t\")\n",
    "            results[split_line[1]] = split_line[-1]\n",
    "            names.append(split_line[1])\n",
    "            perc.append(float(split_line[-1]))\n",
    "\n",
    "    # create dataframes with name and percentage column \n",
    "    df = pd.DataFrame({\"name\": names, \"percentage\": perc})\n",
    "\n",
    "    return results, df\n",
    "\n",
    "results_1, df_1 = read_results(result_folder / \"result_summary.txt\")\n",
    "print(df_1)\n",
    "\n",
    "if masked:\n",
    "    results_2, df_2 = read_results(result_folder / \"result_summary_masked.txt\")\n"
   ]
  },
  {
   "cell_type": "code",
   "execution_count": null,
   "metadata": {},
   "outputs": [],
   "source": [
    "if masked:\n",
    "    # merge the two dataframes\n",
    "    df_1[\"classifier\"] = \"All\"\n",
    "    df_2[\"classifier\"] = \"Masked\"\n",
    "    df = pd.concat([df_1, df_2])\n",
    "\n",
    "    # plot violin plot using seaborn\n",
    "    sns.violinplot(data=df, x=\"classifier\", y=\"percentage\")\n",
    "\n",
    "    # save the plot\n",
    "    if save_plots:\n",
    "        if not save_path.exists():\n",
    "            save_path.mkdir()\n",
    "\n",
    "        plt.savefig(save_path / \"percentage_collagen_all_vs_masked.png\")\n",
    "else:\n",
    "    # plot violin plot using seaborn\n",
    "    df_1[\"classifier\"] = \"All\"\n",
    "    sns.violinplot(data=df_1, x=\"classifier\", y=\"percentage\")\n",
    "\n",
    "    # save the plot\n",
    "    if save_plots:\n",
    "        if not save_path.exists():\n",
    "            save_path.mkdir()\n",
    "\n",
    "        plt.savefig(save_path / \"percentage_collagen.png\")"
   ]
  },
  {
   "cell_type": "code",
   "execution_count": null,
   "metadata": {},
   "outputs": [],
   "source": []
  },
  {
   "cell_type": "code",
   "execution_count": null,
   "metadata": {},
   "outputs": [],
   "source": []
  }
 ],
 "metadata": {
  "kernelspec": {
   "display_name": "general",
   "language": "python",
   "name": "python3"
  },
  "language_info": {
   "codemirror_mode": {
    "name": "ipython",
    "version": 3
   },
   "file_extension": ".py",
   "mimetype": "text/x-python",
   "name": "python",
   "nbconvert_exporter": "python",
   "pygments_lexer": "ipython3",
   "version": "3.10.13"
  }
 },
 "nbformat": 4,
 "nbformat_minor": 2
}
